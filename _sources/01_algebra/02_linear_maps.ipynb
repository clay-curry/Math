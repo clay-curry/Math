{
 "cells": [
  {
   "cell_type": "markdown",
   "id": "c38c1f56",
   "metadata": {},
   "source": [
    "# Linear Maps\n",
    "\n",
    "The central goal of linear algebra is to:\n",
    "\n",
    "1. illustrate, and\n",
    "2. completely characterize,\n",
    "\n",
    "all linear maps between arbitrary finite-dimensional vector spaces.\n",
    "\n",
    "This section serves to help the reader begin to appreciate the above statement. To start, we will ponder the central object of study in linear algebra, linear maps. Like groups, linear maps are developed as an axiomatic theory, where results are guaranteed to hold for an entire class of mathematical objects (in contrast to one particular mathematical object). We start with the following axiomatic definition.\n",
    "\n",
    "```{prf:axiom} Linear Map\n",
    ":label: linear-map\n",
    "\n",
    "The function $f: V \\to W$ is said to **map linearly** from $V$ to $W$ when the following two properties are satisfied\n",
    "\n",
    "1. Additivity of $f$\n",
    "\n",
    "$$\n",
    "f(a + b) = f(a) + f(b)\n",
    "$$\n",
    "\n",
    "2. Homogeneity of $f$\n",
    "\n",
    "$$\n",
    "f(\\lambda a) = \\lambda f(a)\n",
    "$$\n",
    "\n",
    "for any given two elements $a, b \\in V$ and any given scalar $\\lambda \\in \\mathbb{F}$.\n",
    "```\n",
    "\n",
    "---\n",
    "\n",
    "## Vector Spaces\n",
    "\n",
    "On initial introspection, it is natural, perhaps tempting, to glance over a subtle condition of Definition {eq}`linear-map`.  Linear maps constitute a class of group morphisms compatible only with vector spaces.\n",
    "\n",
    "```{prf:axiom} Vector Space\n",
    ":label: vector-space\n",
    "\n",
    "A **vector space** is a quadruple $(V, \\mathbb{F}, +, \\cdot)$ where $V$ is a set, $\\mathbb{F}$ is a field, $+: V \\times V \\to V$ is a composition law colloquially called \"addition\", and $\\cdot: \\mathbb{F} \\times V \\to V$ is a scalar multiplication, whose individual definitions come together to satisfy the following properties\n",
    "\n",
    "1. **associativity**\n",
    "sums remains equal under arbitrary association, i.e. \n",
    "\n",
    "2. Given any $a$ belonging to $V$, we can find some neutral element $e_a$ within $V$ which leaves $a$ unchanged under addition, that is, $a$ can decompose as $a = e_a + a$,\n",
    "\n",
    "3. Given any element $a$ belonging to $V$, we can find some annihilator element $-a$ belonging to $V$, which combines with $a$ under addition to produce a neutral element $e_{a'}$ in $V$, i.e., $a + (-a) = e_{a'}$,\n",
    "```"
   ]
  }
 ],
 "metadata": {
  "jupytext": {
   "cell_metadata_filter": "-all",
   "formats": "md:myst",
   "text_representation": {
    "extension": ".md",
    "format_name": "myst",
    "format_version": 0.13,
    "jupytext_version": "1.11.5"
   }
  },
  "kernelspec": {
   "display_name": "Python 3",
   "language": "python",
   "name": "python3"
  },
  "language_info": {
   "codemirror_mode": {
    "name": "ipython",
    "version": 3
   },
   "file_extension": ".py",
   "mimetype": "text/x-python",
   "name": "python",
   "nbconvert_exporter": "python",
   "pygments_lexer": "ipython3",
   "version": "3.10.8"
  },
  "source_map": [
   14
  ]
 },
 "nbformat": 4,
 "nbformat_minor": 5
}